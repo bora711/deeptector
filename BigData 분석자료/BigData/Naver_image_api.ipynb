{
 "cells": [
  {
   "cell_type": "code",
   "execution_count": null,
   "metadata": {},
   "outputs": [],
   "source": [
    "#패키지 준비\n",
    "import os\n",
    "import sys\n",
    "import urllib.request\n",
    "import json\n",
    " \n",
    "\n",
    "#접속준비(내 id, pw, 검색어 미리 설정해놓으면 나중에 불러오기 편함)\n",
    "client_id = \"발급받은id\"\n",
    "client_secret = \"발급받은pw\"\n",
    "encText = urllib.parse.quote(\"검색어\")\n",
    "url = \"https://openapi.naver.com/v1/search/image?display=100&query=\" + encText \n",
    "#display=100에서 숫자를 바꾸면 내가원하는 결과숫자만큼 불러오기 가능\n",
    "#다른 검색설정을 주고 싶다면 쿼리 뒤에 설명서에 나온 대로 다른쿼리값을 입력\n",
    "\n",
    "request = urllib.request.Request(url)\n",
    "request.add_header(\"X-Naver-Client-Id\",client_id)\n",
    "request.add_header(\"X-Naver-Client-Secret\",client_secret)\n",
    "response = urllib.request.urlopen(request)\n",
    "rescode = response.getcode()\n",
    " \n",
    "# 이미지 저장 경로\n",
    "savePath = \"파일저장경로\"\n",
    "\n",
    "#결과 불러오기\n",
    "if(rescode==200):\n",
    "    response_body = response.read()\n",
    "    result = json.loads(response_body)\n",
    "    img_list = result['items']\n",
    "\n",
    "    for i, img_list in enumerate(img_list, 1):\n",
    "        \n",
    "        # 이미지링크 확인\n",
    "        print(img_list['link'])\n",
    "\n",
    "        # 저장 파일명 및 경로\n",
    "        FileName = os.path.join(savePath, savePath + str(i) + '.jpg')\n",
    "        \n",
    "        # 파일명 출력 \n",
    "        print('full name : {}'.format(FileName))\n",
    "        \n",
    "        # 이미지 다운로드 URL 요청\n",
    "        urllib.request.urlretrieve(img_list['link'], FileName)\n",
    "\n",
    "    # 다운로드 완료 시 출력\n",
    "    print(\"--------download succeeded--------\")\n",
    "\n",
    "else:\n",
    "    print(\"Error Code:\" + rescode)"
   ]
  }
 ],
 "metadata": {
  "kernelspec": {
   "display_name": "Python 3",
   "language": "python",
   "name": "python3"
  },
  "language_info": {
   "codemirror_mode": {
    "name": "ipython",
    "version": 3
   },
   "file_extension": ".py",
   "mimetype": "text/x-python",
   "name": "python",
   "nbconvert_exporter": "python",
   "pygments_lexer": "ipython3",
   "version": "3.8.5"
  }
 },
 "nbformat": 4,
 "nbformat_minor": 4
}
