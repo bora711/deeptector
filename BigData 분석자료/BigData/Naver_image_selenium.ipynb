{
 "cells": [
  {
   "cell_type": "code",
   "execution_count": null,
   "metadata": {},
   "outputs": [],
   "source": [
    "#필요한 패키지 불러오기\n",
    "from selenium import webdriver\n",
    "from selenium.webdriver.common.keys import Keys\n",
    "import time\n",
    "import urllib.request\n",
    "from bs4 import BeautifulSoup as bs\n",
    "from urllib.request import urlopen\n",
    "from urllib.parse import quote_plus"
   ]
  },
  {
   "cell_type": "code",
   "execution_count": null,
   "metadata": {},
   "outputs": [],
   "source": [
    "#검색 사이트, 검색어 미리 설정하기\n",
    "driver = webdriver.Chrome('C:/Temp/chromedriver.exe')\n",
    "driver.get(\"https://search.naver.com/search.naver?where=image&sm=tab_jum&query=\")\n",
    "elem = driver.find_element_by_name(\"query\")\n",
    "elem.send_keys(\"검색어\")\n",
    "elem.send_keys(Keys.RETURN)"
   ]
  },
  {
   "cell_type": "code",
   "execution_count": null,
   "metadata": {},
   "outputs": [],
   "source": [
    "#스크롤해서 검색결과 끝까지 내리기\n",
    "SCROLL_PAUSE_TIME = 1 \n",
    "last_height = driver.execute_script(\"return document.body.scrollHeight\")\n",
    "while True:\n",
    "    driver.execute_script(\"window.scrollTo(0, document.body.scrollHeight);\")\n",
    "    time.sleep(SCROLL_PAUSE_TIME)\n",
    "    new_height = driver.execute_script(\"return document.body.scrollHeight\")\n",
    "    if new_height == last_height:\n",
    "        break\n",
    "    last_height = new_height\n",
    "#검색결과에서 스크롤의 끝값이랑 현재값이 같아질때까지 스크롤 다운 명령을 입력"
   ]
  },
  {
   "cell_type": "code",
   "execution_count": null,
   "metadata": {},
   "outputs": [],
   "source": [
    "#검색 결과에서 사진 이미지 파일을 찾아서 하나씩 저장하기\n",
    "savePath = \"C:/YCL/PYDATAexam/data/img0/\"\n",
    "images = driver.find_elements_by_css_selector(\"div.thumb > a > img\")\n",
    "count = 1\n",
    "for image in images:\n",
    "\ttry:\n",
    "\t\timgUrl = driver.find_element_by_css_selector('div.thumb > a > img').get_attribute(\"src\")\n",
    "\t\tFileName = os.path.join(savePath, savePath + str(i) + '.jpg')\n",
    "\t\turllib.request.urlretrieve(imgUrl['src'], FileName)\n",
    "\tcount = count + 1\n",
    "\texcept:\n",
    "\t\tpass\n",
    "\n",
    "#css선택자중 이미지 리스트에서 이미지를 하나씩 찾은후 그 링크값에 접속하여 다운받기\n"
   ]
  },
  {
   "cell_type": "code",
   "execution_count": null,
   "metadata": {},
   "outputs": [],
   "source": []
  },
  {
   "cell_type": "code",
   "execution_count": null,
   "metadata": {},
   "outputs": [],
   "source": []
  }
 ],
 "metadata": {
  "kernelspec": {
   "display_name": "Python 3",
   "language": "python",
   "name": "python3"
  },
  "language_info": {
   "codemirror_mode": {
    "name": "ipython",
    "version": 3
   },
   "file_extension": ".py",
   "mimetype": "text/x-python",
   "name": "python",
   "nbconvert_exporter": "python",
   "pygments_lexer": "ipython3",
   "version": "3.8.5"
  }
 },
 "nbformat": 4,
 "nbformat_minor": 4
}
