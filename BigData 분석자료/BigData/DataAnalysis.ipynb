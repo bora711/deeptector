{
 "cells": [
  {
   "cell_type": "code",
   "execution_count": null,
   "metadata": {},
   "outputs": [],
   "source": [
    "import pandas as pd\n",
    "import seaborn as sns\n",
    "import glob\n",
    "import os\n",
    "import sys\n",
    "from sklearn.linear_model import LinearRegression\n",
    "from sklearn import datasets\n",
    "import pickle\n",
    "import joblib\n",
    "import mariadb\n",
    "import numpy as np\n",
    "from sklearn import linear_model"
   ]
  },
  {
   "cell_type": "code",
   "execution_count": null,
   "metadata": {},
   "outputs": [],
   "source": [
    "df2 = pd.read_excel('C:/YCL/PYDATAexam/df_screen.xlsx')"
   ]
  },
  {
   "cell_type": "code",
   "execution_count": null,
   "metadata": {},
   "outputs": [],
   "source": [
    "# 단순회귀분석 모형 객체 생성\n",
    "lr = LinearRegression()   \n",
    "\n",
    "# train data를 가지고 모형 학습\n",
    "lr.fit(X_train, y_train)\n",
    "\n",
    "# 학습을 마친 모형에 test data를 적용하여 결정계수(R-제곱) 계산\n",
    "r_square = lr.score(X_test, y_test)\n",
    "print('R제곱근 : ', r_square)\n",
    "\n",
    "# 회귀식의 기울기\n",
    "print('X 변수의 계수 a: ', lr.coef_)\n",
    "\n",
    "# 회귀식의 y절편\n",
    "print('상수항 b', lr.intercept_)"
   ]
  },
  {
   "cell_type": "code",
   "execution_count": null,
   "metadata": {},
   "outputs": [],
   "source": [
    "import matplotlib.pyplot as plt\n",
    "y_hat = lr.predict(X_test)\n",
    "\n",
    "plt.figure(figsize=(10, 5))\n",
    "ax1 = sns.kdeplot(y_test, label=\"y_test\")\n",
    "ax2 = sns.kdeplot(y_hat, label=\"y_hat\", ax=ax1)\n",
    "plt.legend()\n",
    "plt.show()\n",
    "plt.close()"
   ]
  },
  {
   "cell_type": "code",
   "execution_count": null,
   "metadata": {},
   "outputs": [],
   "source": [
    "#모델파일 pkl파일로 저장하기\n",
    "lr.fit(X_train, y_train)\n",
    "saved_model = pickle.dumps(lr)\n",
    "\n",
    "# Load the pickled model\n",
    "clf_from_pickle = pickle.loads(saved_model)\n",
    "\n",
    "# Use the loaded pickled model to make predictions\n",
    "clf_from_pickle.predict(X_train)\n",
    "\n",
    "joblib.dump(lr, 'filename.pkl')"
   ]
  },
  {
   "cell_type": "code",
   "execution_count": null,
   "metadata": {},
   "outputs": [],
   "source": [
    "clf_from_joblib = joblib.load('filename.pkl') \n",
    "clf_from_joblib.predict(X)"
   ]
  },
  {
   "cell_type": "code",
   "execution_count": null,
   "metadata": {},
   "outputs": [],
   "source": [
    "# SQL서버에서 분석할 DB셋 가져오기\n",
    "try:\n",
    "    conn = mariadb.connect(\n",
    "        user=\"유저이름\",\n",
    "        password=\"비밀번호\",\n",
    "        host=\"서버주소\",\n",
    "        port=포트번호,\n",
    "        database=\"bigdata\"\n",
    "    )\n",
    "except mariadb.Error as e:\n",
    "    print(f\"Error connecting to MariaDB Platform: {e}\")\n",
    "    sys.exit(1)\n",
    "cur = conn.cursor()\n",
    "cur.execute('select * from testing')\n",
    "res = cur.fetchall()\n",
    "data = pd.DataFrame.from_records(res)\n",
    "df4 = pd.DataFrame(data) \n",
    "df4.rename(columns= {0:'sex', 1:'age', 2:'age_group', 3:'BO1_2', 4:'BO3_01', 5:'BE3_76', 6:'BE3_78', 7:'BE3_86', 8:'BE3_88', 9:'BE8_1', 10:'BE5_1', 11:'BE9', 12:'HE_ht', 13:'HE_BMI'}, inplace=True)"
   ]
  },
  {
   "cell_type": "code",
   "execution_count": null,
   "metadata": {},
   "outputs": [],
   "source": [
    "df5=df4[['sex','age_group','BE3_76','BE3_78','BE3_86','BE3_88','BE9','HE_BMI']]\n",
    "clf_from_joblib = joblib.load('filename.pkl') \n",
    "clf_from_joblib.predict(df5)\n",
    "df4['LOSS']=clf_from_joblib.predict(df5) #LOSS가 체중 감소량 예측치\n",
    "df4['TIME'] = df4['BE3_78'] + df4['BE3_88'] #전체 운동시간\n",
    "df4['EX_HIGH'] = (df4['BE3_78']/df4['TIME'])*100 #웨이트(고강도) 운동시간\n",
    "df4['EX_MID'] = (df4['BE3_88']/df4['TIME'])*100#유산소(중강도) 운동시간"
   ]
  },
  {
   "cell_type": "code",
   "execution_count": null,
   "metadata": {},
   "outputs": [],
   "source": [
    "def lin_regress(data, yvar, xvars):\n",
    "\n",
    "    # output, input변수들\n",
    "    Y = data[yvar]\n",
    "    X = data[xvars]\n",
    "    \n",
    "    # 선형회귀분석 모델 세팅\n",
    "    linreg = linear_model.LinearRegression()\n",
    "\n",
    "    # 모델 피팅\n",
    "    model = linreg.fit(X, Y)\n",
    "\n",
    "\n",
    "    # 모델값 저장\n",
    "    intercept = model.intercept_\n",
    "    coef = model.coef_\n",
    "    result = [intercept, coef]\n",
    "\n",
    "    return result\n",
    "\n",
    "# 그룹 기준 만들기\n",
    "grouped = df4.groupby('age_group')\n",
    "\n",
    "# 그룹변수를 모델에 적용해서 분석\n",
    "lin_reg_coef = grouped.apply(lin_regress, 'LOSS', [ 'sex','BE3_76','BE3_78','BE3_86','BE3_88','BE9','HE_BMI'])"
   ]
  },
  {
   "cell_type": "code",
   "execution_count": null,
   "metadata": {},
   "outputs": [],
   "source": []
  },
  {
   "cell_type": "code",
   "execution_count": null,
   "metadata": {},
   "outputs": [],
   "source": []
  },
  {
   "cell_type": "code",
   "execution_count": null,
   "metadata": {},
   "outputs": [],
   "source": []
  }
 ],
 "metadata": {
  "kernelspec": {
   "display_name": "Python 3",
   "language": "python",
   "name": "python3"
  },
  "language_info": {
   "codemirror_mode": {
    "name": "ipython",
    "version": 3
   },
   "file_extension": ".py",
   "mimetype": "text/x-python",
   "name": "python",
   "nbconvert_exporter": "python",
   "pygments_lexer": "ipython3",
   "version": "3.8.5"
  }
 },
 "nbformat": 4,
 "nbformat_minor": 4
}
