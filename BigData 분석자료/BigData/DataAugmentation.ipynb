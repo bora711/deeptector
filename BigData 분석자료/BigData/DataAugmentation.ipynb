{
 "cells": [
  {
   "cell_type": "code",
   "execution_count": null,
   "metadata": {},
   "outputs": [],
   "source": [
    "#패키지 로드\n",
    "import numpy as np\n",
    "import os\n",
    "import cv2\n",
    "import pandas as pd"
   ]
  },
  {
   "cell_type": "code",
   "execution_count": null,
   "metadata": {},
   "outputs": [],
   "source": [
    "# 이미지 폴더의 지정\n",
    "dirs = ['with_mask']\n",
    "\n",
    "\n",
    "#  폴더의 파일을 하나씩 읽어들여 처리한 후에 리스트에 보존\n",
    "for i, d in enumerate(dirs):\n",
    "    # 파일명을 취득\n",
    "    files = os.listdir('./data/' + d)\n",
    "    \n",
    "    for f in files:\n",
    "        # 이미지를 그레이 스케일로 리드\n",
    "        img = cv2.imread('./data/' + d + '/' + f, 0)\n",
    "        # 이미지를 리사이즈\n",
    "        img = cv2.resize(img, (128, 128))\n",
    "        # 픽셀값을 보존\n",
    "        #img = np.array(img).flatten().tolist()\n",
    "        \n",
    "        # 이미지의 반전\n",
    "        x_img = cv2.flip(np.float32(img), 0) # x축을 기준\n",
    "        y_img = cv2.flip(np.float32(img), 1) # y축을 기준\n",
    "        xy_img = cv2.flip(np.float32(img), -1) # xy축을 기준\n",
    "        \n",
    "        \n",
    "        # 이미지의 블러 처리\n",
    "        blur_img = cv2.blur(np.float32(img), (5,5)) # 평균값기준\n",
    "        gau_img = cv2.GaussianBlur(np.float32(img), (5,5), 0) # 가우시안값기준\n",
    "        med_img = cv2.medianBlur(np.float32(img), 5) # 중위값기준\n",
    "        bilf_img = cv2.bilateralFilter(np.float32(img), 9, 75, 75) # 바이레터럴필터\n",
    "       \n",
    "        \n",
    "        #이미지 저장하기(대략 원본1000장에 4시간 소요)\n",
    "\t\t\t\tfor n in range(0, len(files)):\n",
    "            # other things you need to do snipped\n",
    "            cv2.imwrite(f'C:/YCL/PYDATAexam/data/aug/x_img_{n}.jpg',img)\n",
    "            cv2.imwrite(f'C:/YCL/PYDATAexam/data/aug/x_img_{n}.jpg', x_img)\n",
    "            cv2.imwrite(f'C:/YCL/PYDATAexam/data/aug/y_img_{n}.jpg', y_img)\n",
    "            cv2.imwrite(f'C:/YCL/PYDATAexam/data/aug/xy_img_{n}.jpg', xy_img)\n",
    "            cv2.imwrite(f'C:/YCL/PYDATAexam/data/aug/blur_img_{n}.jpg', blur_img)\n",
    "            cv2.imwrite(f'C:/YCL/PYDATAexam/data/aug/gau_img_{n}.jpg', gau_img)\n",
    "            cv2.imwrite(f'C:/YCL/PYDATAexam/data/aug/med_img_{n}.jpg', med_img)\n",
    "            cv2.imwrite(f'C:/YCL/PYDATAexam/data/aug/bilf_img_{n}.jpg', bilf_img)"
   ]
  },
  {
   "cell_type": "code",
   "execution_count": null,
   "metadata": {},
   "outputs": [],
   "source": []
  },
  {
   "cell_type": "code",
   "execution_count": null,
   "metadata": {},
   "outputs": [],
   "source": []
  },
  {
   "cell_type": "code",
   "execution_count": null,
   "metadata": {},
   "outputs": [],
   "source": []
  },
  {
   "cell_type": "code",
   "execution_count": null,
   "metadata": {},
   "outputs": [],
   "source": []
  }
 ],
 "metadata": {
  "kernelspec": {
   "display_name": "Python 3",
   "language": "python",
   "name": "python3"
  },
  "language_info": {
   "codemirror_mode": {
    "name": "ipython",
    "version": 3
   },
   "file_extension": ".py",
   "mimetype": "text/x-python",
   "name": "python",
   "nbconvert_exporter": "python",
   "pygments_lexer": "ipython3",
   "version": "3.8.5"
  }
 },
 "nbformat": 4,
 "nbformat_minor": 4
}
